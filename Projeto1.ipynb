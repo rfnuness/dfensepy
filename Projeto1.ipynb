{
  "nbformat": 4,
  "nbformat_minor": 0,
  "metadata": {
    "colab": {
      "provenance": [],
      "authorship_tag": "ABX9TyNSgG8+ZM6WOrrlq94rWQA7",
      "include_colab_link": true
    },
    "kernelspec": {
      "name": "python3",
      "display_name": "Python 3"
    },
    "language_info": {
      "name": "python"
    }
  },
  "cells": [
    {
      "cell_type": "markdown",
      "metadata": {
        "id": "view-in-github",
        "colab_type": "text"
      },
      "source": [
        "<a href=\"https://colab.research.google.com/github/rfnuness/dfensepy/blob/main/Projeto1.ipynb\" target=\"_parent\"><img src=\"https://colab.research.google.com/assets/colab-badge.svg\" alt=\"Open In Colab\"/></a>"
      ]
    },
    {
      "cell_type": "markdown",
      "source": [
        "**Agenda de Contatos**"
      ],
      "metadata": {
        "id": "E65g4yFl2RkS"
      }
    },
    {
      "cell_type": "code",
      "source": [
        "agenda = {}\n",
        "\n",
        "agenda[\"guilherme\"] = {\n",
        "  'telefone': '99887222',\n",
        "  'email' : 'gui@example.com',\n",
        "  'endereco' : 'Av 1',\n",
        "}\n",
        "agenda['maria'] = {\n",
        "  'telefone': '99887766',\n",
        "  'email' : 'mynbi@example.com',\n",
        "  'endereco' : 'rua das casas, nº'\n",
        "}"
      ],
      "metadata": {
        "id": "utZKLCFNEfTX"
      },
      "execution_count": null,
      "outputs": []
    },
    {
      "cell_type": "code",
      "source": [
        "def mostrar_contatos():\n",
        "  for contato in agenda:\n",
        "    buscar_contato(contato)\n",
        "    print('-------------------')\n",
        "\n",
        "def buscar_contato(contato):\n",
        "  print('Nome: ', contato)\n",
        "  print('Telefone: ', agenda[contato]['telefone'])\n",
        "  print('E-mail: ', agenda[contato]['email'])\n",
        "  print('Endereco: ', agenda[contato]['endereco'])\n",
        "  print('-------------------')\n",
        "\n",
        "def incluir_editar_contato(contato, telefone, email, endereco):\n",
        "    agenda[contato] = {\n",
        "      'telefone': telefone,\n",
        "      'email' : email,\n",
        "      'endereco' : endereco,\n",
        "  }\n",
        "    print(f'>>>>>>>>>>> Contato {contato} adicionado ou editado com sucesso')\n",
        "\n",
        "def excluir_contato(contato):\n",
        "  agenda.pop(contato)\n",
        "  print(f'>>>>>>>>>>> Contato {contato} excluido com sucesso')\n",
        "\n",
        "def imprimir_menu():\n",
        "  print('1 - Mostrar contatos')\n",
        "  print('2 - Buscar contato')\n",
        "  print('3 - Incluir contato')\n",
        "  print('4 - Editar contato')\n",
        "  print('5 - Excluir contato')\n",
        "  print('0 - Sair')"
      ],
      "metadata": {
        "id": "9ka2PyzKEwwO"
      },
      "execution_count": null,
      "outputs": []
    },
    {
      "cell_type": "code",
      "source": [
        "while True:\n",
        "  imprimir_menu()\n",
        "  opcao = input('Digite uma opção: ')\n",
        "  if opcao == '1':\n",
        "    mostrar_contatos()\n",
        "  elif opcao == '2':\n",
        "    contato = input('Digite o nome do contato: ')\n",
        "    buscar_contato(contato)\n",
        "  elif opcao == '3' or opcao == '4':\n",
        "    contato = input('Digite o nome do contato: ')\n",
        "    telefone = input('Digite o telefone: ')\n",
        "    email = input('Digite o e-mail: ')\n",
        "    endereco = input('Digite o endereço: ')\n",
        "    incluir_editar_contato(contato, telefone, email, endereco)\n",
        "  elif opcao == '5':\n",
        "    contato = input('Digite o nome do contato: ')\n",
        "    excluir_contato(contato)\n",
        "  elif opcao == '0':\n",
        "    print('Saindo do programa...')\n",
        "    break\n",
        "  else:\n",
        "    print('Opção inválida')\n",
        "\n"
      ],
      "metadata": {
        "id": "qa1DW-2QEqqf"
      },
      "execution_count": null,
      "outputs": []
    }
  ]
}